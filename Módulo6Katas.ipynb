{
 "cells": [
  {
   "cell_type": "code",
   "execution_count": 4,
   "metadata": {},
   "outputs": [
    {
     "name": "stdout",
     "output_type": "stream",
     "text": [
      "Ejercicio 2: Trabajando con datos de una lista\n",
      "Los planetas más cercanos a Saturn\n"
     ]
    }
   ],
   "source": [
    "print(\"Ejercicio 2: Trabajando con datos de una lista\")\n",
    "planetas=['Mercury', 'Venus', 'Earth', 'Mars', 'Jupiter', 'Saturn', 'Neptune']\n",
    "planeta=input(\"Dame el nombre del planeta que deseas(Favor de escribirlo con mayuscula al inicio)\")\n",
    "\n",
    "print(\"Los planetas más cercanos a \"+ planeta)"
   ]
  },
  {
   "cell_type": "code",
   "execution_count": 8,
   "metadata": {},
   "outputs": [
    {
     "name": "stdout",
     "output_type": "stream",
     "text": [
      "Ejercicio1: Crear y usar listas de Python\n",
      "There are 8 planets\n",
      "Pluto Es el ultimo planeta\n"
     ]
    }
   ],
   "source": [
    "print(\"Ejercicio1: Crear y usar listas de Python\")\n",
    "planetas=['Mercury', 'Venus', 'Earth', 'Mars', 'Jupiter', 'Saturn', 'Neptune']\n",
    "# Creamos la lista planets y la mostramos\n",
    "planetas.append('Pluto')#recuerda append es para agregar un elemento a una lista\n",
    "print(planetas[-1], \"Es el ultimo planeta\")\n"
   ]
  }
 ],
 "metadata": {
  "interpreter": {
   "hash": "6d789933423f2026dd762f632057f7ae59cc19f3153fdbf8a64e7992d654ea7e"
  },
  "kernelspec": {
   "display_name": "Python 3.10.2 64-bit",
   "language": "python",
   "name": "python3"
  },
  "language_info": {
   "codemirror_mode": {
    "name": "ipython",
    "version": 3
   },
   "file_extension": ".py",
   "mimetype": "text/x-python",
   "name": "python",
   "nbconvert_exporter": "python",
   "pygments_lexer": "ipython3",
   "version": "3.10.2"
  },
  "orig_nbformat": 4
 },
 "nbformat": 4,
 "nbformat_minor": 2
}
